{
  "nbformat": 4,
  "nbformat_minor": 0,
  "metadata": {
    "colab": {
      "provenance": []
    },
    "kernelspec": {
      "name": "python3",
      "display_name": "Python 3"
    },
    "language_info": {
      "name": "python"
    }
  },
  "cells": [
    {
      "cell_type": "code",
      "execution_count": 27,
      "metadata": {
        "id": "_T3iIn0wmye3"
      },
      "outputs": [],
      "source": [
        "import numpy as np\n",
        "import pandas as pd\n",
        "import matplotlib.pyplot as plt\n",
        "import seaborn as sns"
      ]
    },
    {
      "cell_type": "code",
      "source": [
        "data=pd.read_csv('/content/sample_data/car_age_price.csv')"
      ],
      "metadata": {
        "id": "V01FvCYynNB9"
      },
      "execution_count": 2,
      "outputs": []
    },
    {
      "cell_type": "code",
      "source": [
        "data"
      ],
      "metadata": {
        "colab": {
          "base_uri": "https://localhost:8080/",
          "height": 419
        },
        "id": "UzX62LRXnYCt",
        "outputId": "1e5087c2-706d-4724-d26b-9c3ae6faae23"
      },
      "execution_count": 28,
      "outputs": [
        {
          "output_type": "execute_result",
          "data": {
            "text/plain": [
              "     Year   Price\n",
              "0    2018  465000\n",
              "1    2019  755000\n",
              "2    2019  700000\n",
              "3    2018  465000\n",
              "4    2018  465000\n",
              "..    ...     ...\n",
              "107  2016  375000\n",
              "108  2014  300000\n",
              "109  2015  425000\n",
              "110  2016  420000\n",
              "111  2015  425000\n",
              "\n",
              "[112 rows x 2 columns]"
            ],
            "text/html": [
              "\n",
              "  <div id=\"df-ecafac53-99fe-4a2c-87fb-c64b6d724d63\">\n",
              "    <div class=\"colab-df-container\">\n",
              "      <div>\n",
              "<style scoped>\n",
              "    .dataframe tbody tr th:only-of-type {\n",
              "        vertical-align: middle;\n",
              "    }\n",
              "\n",
              "    .dataframe tbody tr th {\n",
              "        vertical-align: top;\n",
              "    }\n",
              "\n",
              "    .dataframe thead th {\n",
              "        text-align: right;\n",
              "    }\n",
              "</style>\n",
              "<table border=\"1\" class=\"dataframe\">\n",
              "  <thead>\n",
              "    <tr style=\"text-align: right;\">\n",
              "      <th></th>\n",
              "      <th>Year</th>\n",
              "      <th>Price</th>\n",
              "    </tr>\n",
              "  </thead>\n",
              "  <tbody>\n",
              "    <tr>\n",
              "      <th>0</th>\n",
              "      <td>2018</td>\n",
              "      <td>465000</td>\n",
              "    </tr>\n",
              "    <tr>\n",
              "      <th>1</th>\n",
              "      <td>2019</td>\n",
              "      <td>755000</td>\n",
              "    </tr>\n",
              "    <tr>\n",
              "      <th>2</th>\n",
              "      <td>2019</td>\n",
              "      <td>700000</td>\n",
              "    </tr>\n",
              "    <tr>\n",
              "      <th>3</th>\n",
              "      <td>2018</td>\n",
              "      <td>465000</td>\n",
              "    </tr>\n",
              "    <tr>\n",
              "      <th>4</th>\n",
              "      <td>2018</td>\n",
              "      <td>465000</td>\n",
              "    </tr>\n",
              "    <tr>\n",
              "      <th>...</th>\n",
              "      <td>...</td>\n",
              "      <td>...</td>\n",
              "    </tr>\n",
              "    <tr>\n",
              "      <th>107</th>\n",
              "      <td>2016</td>\n",
              "      <td>375000</td>\n",
              "    </tr>\n",
              "    <tr>\n",
              "      <th>108</th>\n",
              "      <td>2014</td>\n",
              "      <td>300000</td>\n",
              "    </tr>\n",
              "    <tr>\n",
              "      <th>109</th>\n",
              "      <td>2015</td>\n",
              "      <td>425000</td>\n",
              "    </tr>\n",
              "    <tr>\n",
              "      <th>110</th>\n",
              "      <td>2016</td>\n",
              "      <td>420000</td>\n",
              "    </tr>\n",
              "    <tr>\n",
              "      <th>111</th>\n",
              "      <td>2015</td>\n",
              "      <td>425000</td>\n",
              "    </tr>\n",
              "  </tbody>\n",
              "</table>\n",
              "<p>112 rows × 2 columns</p>\n",
              "</div>\n",
              "      <button class=\"colab-df-convert\" onclick=\"convertToInteractive('df-ecafac53-99fe-4a2c-87fb-c64b6d724d63')\"\n",
              "              title=\"Convert this dataframe to an interactive table.\"\n",
              "              style=\"display:none;\">\n",
              "        \n",
              "  <svg xmlns=\"http://www.w3.org/2000/svg\" height=\"24px\"viewBox=\"0 0 24 24\"\n",
              "       width=\"24px\">\n",
              "    <path d=\"M0 0h24v24H0V0z\" fill=\"none\"/>\n",
              "    <path d=\"M18.56 5.44l.94 2.06.94-2.06 2.06-.94-2.06-.94-.94-2.06-.94 2.06-2.06.94zm-11 1L8.5 8.5l.94-2.06 2.06-.94-2.06-.94L8.5 2.5l-.94 2.06-2.06.94zm10 10l.94 2.06.94-2.06 2.06-.94-2.06-.94-.94-2.06-.94 2.06-2.06.94z\"/><path d=\"M17.41 7.96l-1.37-1.37c-.4-.4-.92-.59-1.43-.59-.52 0-1.04.2-1.43.59L10.3 9.45l-7.72 7.72c-.78.78-.78 2.05 0 2.83L4 21.41c.39.39.9.59 1.41.59.51 0 1.02-.2 1.41-.59l7.78-7.78 2.81-2.81c.8-.78.8-2.07 0-2.86zM5.41 20L4 18.59l7.72-7.72 1.47 1.35L5.41 20z\"/>\n",
              "  </svg>\n",
              "      </button>\n",
              "      \n",
              "  <style>\n",
              "    .colab-df-container {\n",
              "      display:flex;\n",
              "      flex-wrap:wrap;\n",
              "      gap: 12px;\n",
              "    }\n",
              "\n",
              "    .colab-df-convert {\n",
              "      background-color: #E8F0FE;\n",
              "      border: none;\n",
              "      border-radius: 50%;\n",
              "      cursor: pointer;\n",
              "      display: none;\n",
              "      fill: #1967D2;\n",
              "      height: 32px;\n",
              "      padding: 0 0 0 0;\n",
              "      width: 32px;\n",
              "    }\n",
              "\n",
              "    .colab-df-convert:hover {\n",
              "      background-color: #E2EBFA;\n",
              "      box-shadow: 0px 1px 2px rgba(60, 64, 67, 0.3), 0px 1px 3px 1px rgba(60, 64, 67, 0.15);\n",
              "      fill: #174EA6;\n",
              "    }\n",
              "\n",
              "    [theme=dark] .colab-df-convert {\n",
              "      background-color: #3B4455;\n",
              "      fill: #D2E3FC;\n",
              "    }\n",
              "\n",
              "    [theme=dark] .colab-df-convert:hover {\n",
              "      background-color: #434B5C;\n",
              "      box-shadow: 0px 1px 3px 1px rgba(0, 0, 0, 0.15);\n",
              "      filter: drop-shadow(0px 1px 2px rgba(0, 0, 0, 0.3));\n",
              "      fill: #FFFFFF;\n",
              "    }\n",
              "  </style>\n",
              "\n",
              "      <script>\n",
              "        const buttonEl =\n",
              "          document.querySelector('#df-ecafac53-99fe-4a2c-87fb-c64b6d724d63 button.colab-df-convert');\n",
              "        buttonEl.style.display =\n",
              "          google.colab.kernel.accessAllowed ? 'block' : 'none';\n",
              "\n",
              "        async function convertToInteractive(key) {\n",
              "          const element = document.querySelector('#df-ecafac53-99fe-4a2c-87fb-c64b6d724d63');\n",
              "          const dataTable =\n",
              "            await google.colab.kernel.invokeFunction('convertToInteractive',\n",
              "                                                     [key], {});\n",
              "          if (!dataTable) return;\n",
              "\n",
              "          const docLinkHtml = 'Like what you see? Visit the ' +\n",
              "            '<a target=\"_blank\" href=https://colab.research.google.com/notebooks/data_table.ipynb>data table notebook</a>'\n",
              "            + ' to learn more about interactive tables.';\n",
              "          element.innerHTML = '';\n",
              "          dataTable['output_type'] = 'display_data';\n",
              "          await google.colab.output.renderOutput(dataTable, element);\n",
              "          const docLink = document.createElement('div');\n",
              "          docLink.innerHTML = docLinkHtml;\n",
              "          element.appendChild(docLink);\n",
              "        }\n",
              "      </script>\n",
              "    </div>\n",
              "  </div>\n",
              "  "
            ]
          },
          "metadata": {},
          "execution_count": 28
        }
      ]
    },
    {
      "cell_type": "code",
      "source": [
        "data.info()"
      ],
      "metadata": {
        "colab": {
          "base_uri": "https://localhost:8080/"
        },
        "id": "T09zaZjynbP_",
        "outputId": "afbbc090-a5ba-46af-b6cb-b08bb62f05a1"
      },
      "execution_count": 4,
      "outputs": [
        {
          "output_type": "stream",
          "name": "stdout",
          "text": [
            "<class 'pandas.core.frame.DataFrame'>\n",
            "RangeIndex: 112 entries, 0 to 111\n",
            "Data columns (total 2 columns):\n",
            " #   Column  Non-Null Count  Dtype\n",
            "---  ------  --------------  -----\n",
            " 0   Year    112 non-null    int64\n",
            " 1   Price   112 non-null    int64\n",
            "dtypes: int64(2)\n",
            "memory usage: 1.9 KB\n"
          ]
        }
      ]
    },
    {
      "cell_type": "code",
      "source": [
        "data.isna().sum()"
      ],
      "metadata": {
        "colab": {
          "base_uri": "https://localhost:8080/"
        },
        "id": "p5M7yvGhngUL",
        "outputId": "9dd5830f-d532-4200-bcda-0b3563783725"
      },
      "execution_count": 5,
      "outputs": [
        {
          "output_type": "execute_result",
          "data": {
            "text/plain": [
              "Year     0\n",
              "Price    0\n",
              "dtype: int64"
            ]
          },
          "metadata": {},
          "execution_count": 5
        }
      ]
    },
    {
      "cell_type": "code",
      "source": [
        "data.columns"
      ],
      "metadata": {
        "colab": {
          "base_uri": "https://localhost:8080/"
        },
        "id": "u9bV94JyoBQe",
        "outputId": "f1540970-b47f-47a2-c6e5-9d453c25dc43"
      },
      "execution_count": 29,
      "outputs": [
        {
          "output_type": "execute_result",
          "data": {
            "text/plain": [
              "Index(['Year', 'Price'], dtype='object')"
            ]
          },
          "metadata": {},
          "execution_count": 29
        }
      ]
    },
    {
      "cell_type": "code",
      "source": [
        "x=data.drop('Price',axis=1)"
      ],
      "metadata": {
        "id": "5NFkF1o0nxTc"
      },
      "execution_count": 14,
      "outputs": []
    },
    {
      "cell_type": "code",
      "source": [
        "y=data['Price']"
      ],
      "metadata": {
        "id": "Keh7qJIXoIL6"
      },
      "execution_count": 30,
      "outputs": []
    },
    {
      "cell_type": "code",
      "source": [
        "from sklearn.preprocessing import MinMaxScaler\n",
        "min_max=MinMaxScaler(feature_range=(0,1))\n",
        "x=min_max.fit_transform(x)"
      ],
      "metadata": {
        "id": "_f_j4Tv9rEon"
      },
      "execution_count": 31,
      "outputs": []
    },
    {
      "cell_type": "code",
      "source": [
        "x"
      ],
      "metadata": {
        "colab": {
          "base_uri": "https://localhost:8080/"
        },
        "id": "rsKFASUMsYQD",
        "outputId": "51bd3541-acee-4f83-a1e6-9470b822a0fe"
      },
      "execution_count": 26,
      "outputs": [
        {
          "output_type": "execute_result",
          "data": {
            "text/plain": [
              "array([[0.71428571],\n",
              "       [0.85714286],\n",
              "       [0.85714286],\n",
              "       [0.71428571],\n",
              "       [0.71428571],\n",
              "       [0.28571429],\n",
              "       [0.42857143],\n",
              "       [0.57142857],\n",
              "       [0.57142857],\n",
              "       [0.57142857],\n",
              "       [0.85714286],\n",
              "       [0.71428571],\n",
              "       [0.57142857],\n",
              "       [0.85714286],\n",
              "       [0.57142857],\n",
              "       [0.57142857],\n",
              "       [0.57142857],\n",
              "       [0.57142857],\n",
              "       [0.85714286],\n",
              "       [0.57142857],\n",
              "       [0.71428571],\n",
              "       [0.85714286],\n",
              "       [0.28571429],\n",
              "       [0.57142857],\n",
              "       [0.57142857],\n",
              "       [0.57142857],\n",
              "       [0.57142857],\n",
              "       [0.57142857],\n",
              "       [0.57142857],\n",
              "       [0.57142857],\n",
              "       [0.85714286],\n",
              "       [0.57142857],\n",
              "       [0.57142857],\n",
              "       [0.57142857],\n",
              "       [0.57142857],\n",
              "       [0.57142857],\n",
              "       [0.57142857],\n",
              "       [0.57142857],\n",
              "       [0.71428571],\n",
              "       [1.        ],\n",
              "       [0.85714286],\n",
              "       [0.85714286],\n",
              "       [0.71428571],\n",
              "       [0.85714286],\n",
              "       [0.85714286],\n",
              "       [0.71428571],\n",
              "       [0.85714286],\n",
              "       [0.71428571],\n",
              "       [0.42857143],\n",
              "       [0.71428571],\n",
              "       [0.        ],\n",
              "       [0.71428571],\n",
              "       [0.        ],\n",
              "       [0.        ],\n",
              "       [0.57142857],\n",
              "       [0.57142857],\n",
              "       [0.14285714],\n",
              "       [0.57142857],\n",
              "       [0.14285714],\n",
              "       [0.42857143],\n",
              "       [0.28571429],\n",
              "       [0.57142857],\n",
              "       [0.57142857],\n",
              "       [0.57142857],\n",
              "       [0.28571429],\n",
              "       [0.57142857],\n",
              "       [0.57142857],\n",
              "       [0.28571429],\n",
              "       [0.28571429],\n",
              "       [0.28571429],\n",
              "       [0.28571429],\n",
              "       [0.57142857],\n",
              "       [0.28571429],\n",
              "       [0.        ],\n",
              "       [0.57142857],\n",
              "       [0.57142857],\n",
              "       [0.28571429],\n",
              "       [0.28571429],\n",
              "       [0.28571429],\n",
              "       [0.28571429],\n",
              "       [0.28571429],\n",
              "       [0.14285714],\n",
              "       [0.28571429],\n",
              "       [0.57142857],\n",
              "       [0.28571429],\n",
              "       [0.28571429],\n",
              "       [0.57142857],\n",
              "       [0.57142857],\n",
              "       [0.57142857],\n",
              "       [0.57142857],\n",
              "       [0.57142857],\n",
              "       [0.57142857],\n",
              "       [0.57142857],\n",
              "       [0.57142857],\n",
              "       [0.57142857],\n",
              "       [0.57142857],\n",
              "       [0.57142857],\n",
              "       [1.        ],\n",
              "       [1.        ],\n",
              "       [1.        ],\n",
              "       [0.42857143],\n",
              "       [0.28571429],\n",
              "       [0.28571429],\n",
              "       [0.57142857],\n",
              "       [0.14285714],\n",
              "       [0.14285714],\n",
              "       [0.28571429],\n",
              "       [0.42857143],\n",
              "       [0.14285714],\n",
              "       [0.28571429],\n",
              "       [0.42857143],\n",
              "       [0.28571429]])"
            ]
          },
          "metadata": {},
          "execution_count": 26
        }
      ]
    },
    {
      "cell_type": "code",
      "source": [],
      "metadata": {
        "id": "brAAwUuKstb-"
      },
      "execution_count": null,
      "outputs": []
    },
    {
      "cell_type": "code",
      "source": [
        "from sklearn.model_selection import train_test_split\n",
        "x_train,x_test,y_train,y_test=train_test_split(x,y,random_state=42,test_size=0.2)"
      ],
      "metadata": {
        "id": "rrRPpH9XnrWf"
      },
      "execution_count": 32,
      "outputs": []
    },
    {
      "cell_type": "code",
      "source": [
        "## Linear Regression"
      ],
      "metadata": {
        "id": "i0-P3OZ5sv-d"
      },
      "execution_count": null,
      "outputs": []
    },
    {
      "cell_type": "code",
      "source": [
        "from sklearn.linear_model import LinearRegression\n",
        "linear_regression=LinearRegression()\n",
        "model=linear_regression.fit(x_train,y_train)\n",
        "predictions=model.predict(x_test)"
      ],
      "metadata": {
        "id": "ZUB6n0DWoULu"
      },
      "execution_count": 24,
      "outputs": []
    },
    {
      "cell_type": "code",
      "source": [
        "from sklearn.metrics import mean_squared_error,r2_score\n",
        "print('Mean Squared Error=',mean_squared_error(y_test,predictions))\n",
        "print('R squared value=',r2_score(y_test,predictions))"
      ],
      "metadata": {
        "colab": {
          "base_uri": "https://localhost:8080/"
        },
        "id": "mTy3iT3BpjZ0",
        "outputId": "7e7fefb4-4c56-405e-f2c1-6ad733c0c55e"
      },
      "execution_count": 33,
      "outputs": [
        {
          "output_type": "stream",
          "name": "stdout",
          "text": [
            "Mean Squared Error= 4326906256.830066\n",
            "R squared value= 0.3675931342589642\n"
          ]
        }
      ]
    },
    {
      "cell_type": "code",
      "source": [
        "## lasso regression"
      ],
      "metadata": {
        "id": "F-BjDCqZs1OX"
      },
      "execution_count": null,
      "outputs": []
    },
    {
      "cell_type": "code",
      "source": [
        "from sklearn.linear_model import Lasso\n",
        "reg= Lasso(alpha=1)\n",
        "reg.fit(x_train,y_train)\n"
      ],
      "metadata": {
        "colab": {
          "base_uri": "https://localhost:8080/"
        },
        "id": "EJt0zdcIs_IS",
        "outputId": "40cf57f1-9081-4039-c694-95ee50f92fe7"
      },
      "execution_count": 35,
      "outputs": [
        {
          "output_type": "execute_result",
          "data": {
            "text/plain": [
              "Lasso(alpha=1)"
            ]
          },
          "metadata": {},
          "execution_count": 35
        }
      ]
    },
    {
      "cell_type": "code",
      "source": [
        "print('R squared test set',round(reg.score(x_test,y_test)*100,2))"
      ],
      "metadata": {
        "colab": {
          "base_uri": "https://localhost:8080/"
        },
        "id": "7-OWERKWtpoW",
        "outputId": "431fa67a-0fc4-42f7-f551-6d1321cc0f06"
      },
      "execution_count": 36,
      "outputs": [
        {
          "output_type": "stream",
          "name": "stdout",
          "text": [
            "R squared test set 36.76\n"
          ]
        }
      ]
    },
    {
      "cell_type": "code",
      "source": [
        "pred=reg.predict(x_test)\n",
        "mse_test=mean_squared_error(y_test,pred)\n",
        "print('MSE test set',round(mse_test,2))"
      ],
      "metadata": {
        "colab": {
          "base_uri": "https://localhost:8080/"
        },
        "id": "9c2wRiL8uMUe",
        "outputId": "6650fdf2-f518-4093-ec08-b7e5ac783b5d"
      },
      "execution_count": 38,
      "outputs": [
        {
          "output_type": "stream",
          "name": "stdout",
          "text": [
            "MSE test set 4326580881.0\n"
          ]
        }
      ]
    },
    {
      "cell_type": "code",
      "source": [
        "## both linear and lasso regression fit for the model and almost remain same"
      ],
      "metadata": {
        "id": "SBZfKdW8u_dR"
      },
      "execution_count": null,
      "outputs": []
    }
  ]
}